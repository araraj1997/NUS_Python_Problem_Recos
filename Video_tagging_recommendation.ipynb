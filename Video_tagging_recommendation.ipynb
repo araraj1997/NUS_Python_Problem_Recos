{
  "nbformat": 4,
  "nbformat_minor": 0,
  "metadata": {
    "colab": {
      "provenance": []
    },
    "kernelspec": {
      "name": "python3",
      "display_name": "Python 3"
    }
  },
  "cells": [
    {
      "metadata": {
        "id": "qnN29-mQBUr5"
      },
      "cell_type": "markdown",
      "source": [
        "# Recommendations based on how the user tagged videos"
      ]
    },
    {
      "metadata": {
        "id": "mtAn9KSB1ITW",
        "colab": {
          "base_uri": "https://localhost:8080/",
          "height": 511
        },
        "outputId": "7914d880-1e7f-4e14-e089-33db801c25ad"
      },
      "cell_type": "code",
      "source": [
        "import pandas as pd\n",
        "\n",
        "data = pd.read_json('https://raw.githubusercontent.com/araraj1997/Tutorial-Data/master/vidtopics%20(1).json')\n",
        "\n",
        "null_checker = data.isnull()\n",
        "videos_watched = {}\n",
        "\n",
        "#videos watched\n",
        "for index,rows in null_checker.iterrows():\n",
        "    for column in null_checker:\n",
        "      if not null_checker[column][index]:\n",
        "        if index not in videos_watched:\n",
        "          videos_watched[index] = {column:True}\n",
        "        else:\n",
        "          if column not in videos_watched[index]:\n",
        "            videos_watched[index].update({column:True})\n",
        "\n",
        "\n",
        "print(videos_watched)\n",
        "data"
      ],
      "execution_count": null,
      "outputs": [
        {
          "output_type": "stream",
          "text": [
            "{'17d6d1LuweS3vlOKnMyonkV03D03': {'-LFH5af1gB_VUOhOV25C': True, '-LFH71vDNMNCgXB2O4RT': True, '-LFLgPST2DOQkhEL8zl6': True, '-LGZ1mArBTe7PTT5r9Os': True, '-LGZ28OSwIsABpGQcfhP': True, '-LGZ2er1NHk7gq4khVWl': True}, 'AQemrWVOgGXggX3ThOFUQXyAKnQ2': {'-LFH5af1gB_VUOhOV25C': True, '-LFH6pRkce1qEz7flOg3': True}, 'I9nQZbQ5xMdklnudDqGfh1ucOZz2': {'-L9JSkGVgGDRBckUlSjL': True}, 'OVkIA2ZkVbVCtzU9x1dHEVnvK8x1': {'-LFH5af1gB_VUOhOV25C': True, '-LFH6pRkce1qEz7flOg3': True, '-LFH71vDNMNCgXB2O4RT': True, '-LFLgHKNeCgNEw0qzSkl': True, '-LFLgPST2DOQkhEL8zl6': True}, 'PBTm2mzeHpZ7E3VkAmZrrTjPmJy2': {'-LFH5af1gB_VUOhOV25C': True, '-LFH6pRkce1qEz7flOg3': True, '-LFH71vDNMNCgXB2O4RT': True, '-LFLgHKNeCgNEw0qzSkl': True}, 'TOT2Pe5KKIe8QufgPxM2S22VqHv1': {'-LFH5af1gB_VUOhOV25C': True, '-LFH6pRkce1qEz7flOg3': True, '-LFH71vDNMNCgXB2O4RT': True, '-LFLgHKNeCgNEw0qzSkl': True, '-LFLgPST2DOQkhEL8zl6': True, '-LGZ1W3At4LlWZNJNGqJ': True, '-LGZ1yNVLpQYrvnKTRXL': True, '-LGZ2GDFwYKYDKm0nssk': True}, 'YWvoiBjXH9fNwayEJzuxRCyRv593': {'-LFH5af1gB_VUOhOV25C': True, '-LFH6pRkce1qEz7flOg3': True, '-LFLgHKNeCgNEw0qzSkl': True, '-LFLgPST2DOQkhEL8zl6': True}, 'jpG3H98JWMTlMd82eFENoc4YdEB2': {'-LFH5af1gB_VUOhOV25C': True}}\n"
          ],
          "name": "stdout"
        },
        {
          "output_type": "execute_result",
          "data": {
            "text/html": [
              "<div>\n",
              "<style scoped>\n",
              "    .dataframe tbody tr th:only-of-type {\n",
              "        vertical-align: middle;\n",
              "    }\n",
              "\n",
              "    .dataframe tbody tr th {\n",
              "        vertical-align: top;\n",
              "    }\n",
              "\n",
              "    .dataframe thead th {\n",
              "        text-align: right;\n",
              "    }\n",
              "</style>\n",
              "<table border=\"1\" class=\"dataframe\">\n",
              "  <thead>\n",
              "    <tr style=\"text-align: right;\">\n",
              "      <th></th>\n",
              "      <th>-L9JSkGVgGDRBckUlSjL</th>\n",
              "      <th>-LFH5af1gB_VUOhOV25C</th>\n",
              "      <th>-LFH6pRkce1qEz7flOg3</th>\n",
              "      <th>-LFH71vDNMNCgXB2O4RT</th>\n",
              "      <th>-LFLgHKNeCgNEw0qzSkl</th>\n",
              "      <th>-LFLgPST2DOQkhEL8zl6</th>\n",
              "      <th>-LGZ1W3At4LlWZNJNGqJ</th>\n",
              "      <th>-LGZ1mArBTe7PTT5r9Os</th>\n",
              "      <th>-LGZ1yNVLpQYrvnKTRXL</th>\n",
              "      <th>-LGZ28OSwIsABpGQcfhP</th>\n",
              "      <th>-LGZ2GDFwYKYDKm0nssk</th>\n",
              "      <th>-LGZ2er1NHk7gq4khVWl</th>\n",
              "    </tr>\n",
              "  </thead>\n",
              "  <tbody>\n",
              "    <tr>\n",
              "      <th>17d6d1LuweS3vlOKnMyonkV03D03</th>\n",
              "      <td>NaN</td>\n",
              "      <td>intro ML experience</td>\n",
              "      <td>NaN</td>\n",
              "      <td>function definition</td>\n",
              "      <td>NaN</td>\n",
              "      <td>linear regression gradient descent</td>\n",
              "      <td>NaN</td>\n",
              "      <td>training feature good how many dog</td>\n",
              "      <td>NaN</td>\n",
              "      <td>writing classifier own</td>\n",
              "      <td>NaN</td>\n",
              "      <td>image classifier flower tensorflow</td>\n",
              "    </tr>\n",
              "    <tr>\n",
              "      <th>AQemrWVOgGXggX3ThOFUQXyAKnQ2</th>\n",
              "      <td>NaN</td>\n",
              "      <td>grid of x-axis vs y-axis linear regression err...</td>\n",
              "      <td>jupyter notebook print variables command line ...</td>\n",
              "      <td>NaN</td>\n",
              "      <td>NaN</td>\n",
              "      <td>NaN</td>\n",
              "      <td>NaN</td>\n",
              "      <td>NaN</td>\n",
              "      <td>NaN</td>\n",
              "      <td>NaN</td>\n",
              "      <td>NaN</td>\n",
              "      <td>NaN</td>\n",
              "    </tr>\n",
              "    <tr>\n",
              "      <th>I9nQZbQ5xMdklnudDqGfh1ucOZz2</th>\n",
              "      <td>this is not apple.</td>\n",
              "      <td>NaN</td>\n",
              "      <td>NaN</td>\n",
              "      <td>NaN</td>\n",
              "      <td>NaN</td>\n",
              "      <td>NaN</td>\n",
              "      <td>NaN</td>\n",
              "      <td>NaN</td>\n",
              "      <td>NaN</td>\n",
              "      <td>NaN</td>\n",
              "      <td>NaN</td>\n",
              "      <td>NaN</td>\n",
              "    </tr>\n",
              "    <tr>\n",
              "      <th>OVkIA2ZkVbVCtzU9x1dHEVnvK8x1</th>\n",
              "      <td>NaN</td>\n",
              "      <td>App recommendation Acceptance Statistics AI In...</td>\n",
              "      <td>Great Singapore Sale Jupyter Kernals Hello Wor...</td>\n",
              "      <td>Functions Variables Print Basics Next time</td>\n",
              "      <td>lists! lists of anything lists of numbers team...</td>\n",
              "      <td>Rainbow trains foundations of neural net machi...</td>\n",
              "      <td>NaN</td>\n",
              "      <td>NaN</td>\n",
              "      <td>NaN</td>\n",
              "      <td>NaN</td>\n",
              "      <td>NaN</td>\n",
              "      <td>NaN</td>\n",
              "    </tr>\n",
              "    <tr>\n",
              "      <th>PBTm2mzeHpZ7E3VkAmZrrTjPmJy2</th>\n",
              "      <td>NaN</td>\n",
              "      <td>house prices gradient descent neural network l...</td>\n",
              "      <td>anaconda install</td>\n",
              "      <td>parameter how to define function</td>\n",
              "      <td>list  append</td>\n",
              "      <td>NaN</td>\n",
              "      <td>NaN</td>\n",
              "      <td>NaN</td>\n",
              "      <td>NaN</td>\n",
              "      <td>NaN</td>\n",
              "      <td>NaN</td>\n",
              "      <td>NaN</td>\n",
              "    </tr>\n",
              "    <tr>\n",
              "      <th>TOT2Pe5KKIe8QufgPxM2S22VqHv1</th>\n",
              "      <td>NaN</td>\n",
              "      <td>ML linear regression spam recommendation</td>\n",
              "      <td>python jupyter notebook variable</td>\n",
              "      <td>functions definition parameter</td>\n",
              "      <td>list access append modify</td>\n",
              "      <td>linear regression gradient descent</td>\n",
              "      <td>hello world classifier supervised anaconda</td>\n",
              "      <td>NaN</td>\n",
              "      <td>pipeline spam sklearn  classifier</td>\n",
              "      <td>NaN</td>\n",
              "      <td>feature classifier distance neighbor</td>\n",
              "      <td>NaN</td>\n",
              "    </tr>\n",
              "    <tr>\n",
              "      <th>YWvoiBjXH9fNwayEJzuxRCyRv593</th>\n",
              "      <td>NaN</td>\n",
              "      <td>recommending pokemon kernel trick</td>\n",
              "      <td>variables cli notebook</td>\n",
              "      <td>NaN</td>\n",
              "      <td>append list add to list</td>\n",
              "      <td>regression ML gradient descent</td>\n",
              "      <td>NaN</td>\n",
              "      <td>NaN</td>\n",
              "      <td>NaN</td>\n",
              "      <td>NaN</td>\n",
              "      <td>NaN</td>\n",
              "      <td>NaN</td>\n",
              "    </tr>\n",
              "    <tr>\n",
              "      <th>jpG3H98JWMTlMd82eFENoc4YdEB2</th>\n",
              "      <td>NaN</td>\n",
              "      <td>machine learning</td>\n",
              "      <td>NaN</td>\n",
              "      <td>NaN</td>\n",
              "      <td>NaN</td>\n",
              "      <td>NaN</td>\n",
              "      <td>NaN</td>\n",
              "      <td>NaN</td>\n",
              "      <td>NaN</td>\n",
              "      <td>NaN</td>\n",
              "      <td>NaN</td>\n",
              "      <td>NaN</td>\n",
              "    </tr>\n",
              "  </tbody>\n",
              "</table>\n",
              "</div>"
            ],
            "text/plain": [
              "                             -L9JSkGVgGDRBckUlSjL  \\\n",
              "17d6d1LuweS3vlOKnMyonkV03D03                  NaN   \n",
              "AQemrWVOgGXggX3ThOFUQXyAKnQ2                  NaN   \n",
              "I9nQZbQ5xMdklnudDqGfh1ucOZz2   this is not apple.   \n",
              "OVkIA2ZkVbVCtzU9x1dHEVnvK8x1                  NaN   \n",
              "PBTm2mzeHpZ7E3VkAmZrrTjPmJy2                  NaN   \n",
              "TOT2Pe5KKIe8QufgPxM2S22VqHv1                  NaN   \n",
              "YWvoiBjXH9fNwayEJzuxRCyRv593                  NaN   \n",
              "jpG3H98JWMTlMd82eFENoc4YdEB2                  NaN   \n",
              "\n",
              "                                                           -LFH5af1gB_VUOhOV25C  \\\n",
              "17d6d1LuweS3vlOKnMyonkV03D03                                intro ML experience   \n",
              "AQemrWVOgGXggX3ThOFUQXyAKnQ2  grid of x-axis vs y-axis linear regression err...   \n",
              "I9nQZbQ5xMdklnudDqGfh1ucOZz2                                                NaN   \n",
              "OVkIA2ZkVbVCtzU9x1dHEVnvK8x1  App recommendation Acceptance Statistics AI In...   \n",
              "PBTm2mzeHpZ7E3VkAmZrrTjPmJy2  house prices gradient descent neural network l...   \n",
              "TOT2Pe5KKIe8QufgPxM2S22VqHv1          ML linear regression spam recommendation    \n",
              "YWvoiBjXH9fNwayEJzuxRCyRv593                 recommending pokemon kernel trick    \n",
              "jpG3H98JWMTlMd82eFENoc4YdEB2                                  machine learning    \n",
              "\n",
              "                                                           -LFH6pRkce1qEz7flOg3  \\\n",
              "17d6d1LuweS3vlOKnMyonkV03D03                                                NaN   \n",
              "AQemrWVOgGXggX3ThOFUQXyAKnQ2  jupyter notebook print variables command line ...   \n",
              "I9nQZbQ5xMdklnudDqGfh1ucOZz2                                                NaN   \n",
              "OVkIA2ZkVbVCtzU9x1dHEVnvK8x1  Great Singapore Sale Jupyter Kernals Hello Wor...   \n",
              "PBTm2mzeHpZ7E3VkAmZrrTjPmJy2                                   anaconda install   \n",
              "TOT2Pe5KKIe8QufgPxM2S22VqHv1                   python jupyter notebook variable   \n",
              "YWvoiBjXH9fNwayEJzuxRCyRv593                             variables cli notebook   \n",
              "jpG3H98JWMTlMd82eFENoc4YdEB2                                                NaN   \n",
              "\n",
              "                                                    -LFH71vDNMNCgXB2O4RT  \\\n",
              "17d6d1LuweS3vlOKnMyonkV03D03                        function definition    \n",
              "AQemrWVOgGXggX3ThOFUQXyAKnQ2                                         NaN   \n",
              "I9nQZbQ5xMdklnudDqGfh1ucOZz2                                         NaN   \n",
              "OVkIA2ZkVbVCtzU9x1dHEVnvK8x1  Functions Variables Print Basics Next time   \n",
              "PBTm2mzeHpZ7E3VkAmZrrTjPmJy2            parameter how to define function   \n",
              "TOT2Pe5KKIe8QufgPxM2S22VqHv1              functions definition parameter   \n",
              "YWvoiBjXH9fNwayEJzuxRCyRv593                                         NaN   \n",
              "jpG3H98JWMTlMd82eFENoc4YdEB2                                         NaN   \n",
              "\n",
              "                                                           -LFLgHKNeCgNEw0qzSkl  \\\n",
              "17d6d1LuweS3vlOKnMyonkV03D03                                                NaN   \n",
              "AQemrWVOgGXggX3ThOFUQXyAKnQ2                                                NaN   \n",
              "I9nQZbQ5xMdklnudDqGfh1ucOZz2                                                NaN   \n",
              "OVkIA2ZkVbVCtzU9x1dHEVnvK8x1  lists! lists of anything lists of numbers team...   \n",
              "PBTm2mzeHpZ7E3VkAmZrrTjPmJy2                                       list  append   \n",
              "TOT2Pe5KKIe8QufgPxM2S22VqHv1                          list access append modify   \n",
              "YWvoiBjXH9fNwayEJzuxRCyRv593                            append list add to list   \n",
              "jpG3H98JWMTlMd82eFENoc4YdEB2                                                NaN   \n",
              "\n",
              "                                                           -LFLgPST2DOQkhEL8zl6  \\\n",
              "17d6d1LuweS3vlOKnMyonkV03D03                 linear regression gradient descent   \n",
              "AQemrWVOgGXggX3ThOFUQXyAKnQ2                                                NaN   \n",
              "I9nQZbQ5xMdklnudDqGfh1ucOZz2                                                NaN   \n",
              "OVkIA2ZkVbVCtzU9x1dHEVnvK8x1  Rainbow trains foundations of neural net machi...   \n",
              "PBTm2mzeHpZ7E3VkAmZrrTjPmJy2                                                NaN   \n",
              "TOT2Pe5KKIe8QufgPxM2S22VqHv1                 linear regression gradient descent   \n",
              "YWvoiBjXH9fNwayEJzuxRCyRv593                     regression ML gradient descent   \n",
              "jpG3H98JWMTlMd82eFENoc4YdEB2                                                NaN   \n",
              "\n",
              "                                                    -LGZ1W3At4LlWZNJNGqJ  \\\n",
              "17d6d1LuweS3vlOKnMyonkV03D03                                         NaN   \n",
              "AQemrWVOgGXggX3ThOFUQXyAKnQ2                                         NaN   \n",
              "I9nQZbQ5xMdklnudDqGfh1ucOZz2                                         NaN   \n",
              "OVkIA2ZkVbVCtzU9x1dHEVnvK8x1                                         NaN   \n",
              "PBTm2mzeHpZ7E3VkAmZrrTjPmJy2                                         NaN   \n",
              "TOT2Pe5KKIe8QufgPxM2S22VqHv1  hello world classifier supervised anaconda   \n",
              "YWvoiBjXH9fNwayEJzuxRCyRv593                                         NaN   \n",
              "jpG3H98JWMTlMd82eFENoc4YdEB2                                         NaN   \n",
              "\n",
              "                                            -LGZ1mArBTe7PTT5r9Os  \\\n",
              "17d6d1LuweS3vlOKnMyonkV03D03  training feature good how many dog   \n",
              "AQemrWVOgGXggX3ThOFUQXyAKnQ2                                 NaN   \n",
              "I9nQZbQ5xMdklnudDqGfh1ucOZz2                                 NaN   \n",
              "OVkIA2ZkVbVCtzU9x1dHEVnvK8x1                                 NaN   \n",
              "PBTm2mzeHpZ7E3VkAmZrrTjPmJy2                                 NaN   \n",
              "TOT2Pe5KKIe8QufgPxM2S22VqHv1                                 NaN   \n",
              "YWvoiBjXH9fNwayEJzuxRCyRv593                                 NaN   \n",
              "jpG3H98JWMTlMd82eFENoc4YdEB2                                 NaN   \n",
              "\n",
              "                                           -LGZ1yNVLpQYrvnKTRXL  \\\n",
              "17d6d1LuweS3vlOKnMyonkV03D03                                NaN   \n",
              "AQemrWVOgGXggX3ThOFUQXyAKnQ2                                NaN   \n",
              "I9nQZbQ5xMdklnudDqGfh1ucOZz2                                NaN   \n",
              "OVkIA2ZkVbVCtzU9x1dHEVnvK8x1                                NaN   \n",
              "PBTm2mzeHpZ7E3VkAmZrrTjPmJy2                                NaN   \n",
              "TOT2Pe5KKIe8QufgPxM2S22VqHv1  pipeline spam sklearn  classifier   \n",
              "YWvoiBjXH9fNwayEJzuxRCyRv593                                NaN   \n",
              "jpG3H98JWMTlMd82eFENoc4YdEB2                                NaN   \n",
              "\n",
              "                                -LGZ28OSwIsABpGQcfhP  \\\n",
              "17d6d1LuweS3vlOKnMyonkV03D03  writing classifier own   \n",
              "AQemrWVOgGXggX3ThOFUQXyAKnQ2                     NaN   \n",
              "I9nQZbQ5xMdklnudDqGfh1ucOZz2                     NaN   \n",
              "OVkIA2ZkVbVCtzU9x1dHEVnvK8x1                     NaN   \n",
              "PBTm2mzeHpZ7E3VkAmZrrTjPmJy2                     NaN   \n",
              "TOT2Pe5KKIe8QufgPxM2S22VqHv1                     NaN   \n",
              "YWvoiBjXH9fNwayEJzuxRCyRv593                     NaN   \n",
              "jpG3H98JWMTlMd82eFENoc4YdEB2                     NaN   \n",
              "\n",
              "                                              -LGZ2GDFwYKYDKm0nssk  \\\n",
              "17d6d1LuweS3vlOKnMyonkV03D03                                   NaN   \n",
              "AQemrWVOgGXggX3ThOFUQXyAKnQ2                                   NaN   \n",
              "I9nQZbQ5xMdklnudDqGfh1ucOZz2                                   NaN   \n",
              "OVkIA2ZkVbVCtzU9x1dHEVnvK8x1                                   NaN   \n",
              "PBTm2mzeHpZ7E3VkAmZrrTjPmJy2                                   NaN   \n",
              "TOT2Pe5KKIe8QufgPxM2S22VqHv1  feature classifier distance neighbor   \n",
              "YWvoiBjXH9fNwayEJzuxRCyRv593                                   NaN   \n",
              "jpG3H98JWMTlMd82eFENoc4YdEB2                                   NaN   \n",
              "\n",
              "                                            -LGZ2er1NHk7gq4khVWl  \n",
              "17d6d1LuweS3vlOKnMyonkV03D03  image classifier flower tensorflow  \n",
              "AQemrWVOgGXggX3ThOFUQXyAKnQ2                                 NaN  \n",
              "I9nQZbQ5xMdklnudDqGfh1ucOZz2                                 NaN  \n",
              "OVkIA2ZkVbVCtzU9x1dHEVnvK8x1                                 NaN  \n",
              "PBTm2mzeHpZ7E3VkAmZrrTjPmJy2                                 NaN  \n",
              "TOT2Pe5KKIe8QufgPxM2S22VqHv1                                 NaN  \n",
              "YWvoiBjXH9fNwayEJzuxRCyRv593                                 NaN  \n",
              "jpG3H98JWMTlMd82eFENoc4YdEB2                                 NaN  "
            ]
          },
          "metadata": {
            "tags": []
          },
          "execution_count": 38
        }
      ]
    },
    {
      "metadata": {
        "id": "NW9QLKl92YCA",
        "colab": {
          "base_uri": "https://localhost:8080/",
          "height": 416
        },
        "outputId": "2c3ba750-1921-46ee-f618-98ee008afb44"
      },
      "cell_type": "code",
      "source": [
        "\n",
        "data = data.fillna(' ')\n",
        "AllTagsProblem = data.apply(lambda x: ' '.join(x), axis=0)\n",
        "data['AllTagsuser'] = data.apply(lambda x: ' '.join(x), axis=1)\n",
        "\n",
        "\n",
        "\n",
        "data = data.reset_index(col_fill='VideoKey')\n",
        "print(data['AllTagsuser'])\n",
        "print('')\n",
        "print(AllTagsProblem)\n"
      ],
      "execution_count": null,
      "outputs": [
        {
          "output_type": "stream",
          "text": [
            "0      intro ML experience   function definition   ...\n",
            "1      grid of x-axis vs y-axis linear regression e...\n",
            "2             this is not apple.                      \n",
            "3      App recommendation Acceptance Statistics AI ...\n",
            "4      house prices gradient descent neural network...\n",
            "5      ML linear regression spam recommendation  py...\n",
            "6      recommending pokemon kernel trick  variables...\n",
            "7                machine learning                     \n",
            "Name: AllTagsuser, dtype: object\n",
            "\n",
            "-L9JSkGVgGDRBckUlSjL                         this is not apple.          \n",
            "-LFH5af1gB_VUOhOV25C    intro ML experience grid of x-axis vs y-axis l...\n",
            "-LFH6pRkce1qEz7flOg3      jupyter notebook print variables command lin...\n",
            "-LFH71vDNMNCgXB2O4RT    function definition      Functions Variables P...\n",
            "-LFLgHKNeCgNEw0qzSkl          lists! lists of anything lists of number...\n",
            "-LFLgPST2DOQkhEL8zl6    linear regression gradient descent     Rainbow...\n",
            "-LGZ1W3At4LlWZNJNGqJ              hello world classifier supervised an...\n",
            "-LGZ1mArBTe7PTT5r9Os     training feature good how many dog              \n",
            "-LGZ1yNVLpQYrvnKTRXL                pipeline spam sklearn  classifier    \n",
            "-LGZ28OSwIsABpGQcfhP                 writing classifier own              \n",
            "-LGZ2GDFwYKYDKm0nssk              feature classifier distance neighbor...\n",
            "-LGZ2er1NHk7gq4khVWl     image classifier flower tensorflow              \n",
            "dtype: object\n"
          ],
          "name": "stdout"
        }
      ]
    },
    {
      "metadata": {
        "id": "hILqfOmi5DwZ"
      },
      "cell_type": "code",
      "source": [
        "from sklearn.feature_extraction.text import TfidfVectorizer\n",
        "\n",
        "#to get count for each word\n",
        "tfidf_vector = TfidfVectorizer()\n",
        "#set the variable\n",
        "train = tfidf_vector.fit_transform(AllTagsProblem)\n",
        "test = tfidf_vector.transform(data['AllTagsuser'])\n"
      ],
      "execution_count": null,
      "outputs": []
    },
    {
      "metadata": {
        "id": "jK6FTy1X5jh1",
        "colab": {
          "base_uri": "https://localhost:8080/",
          "height": 295
        },
        "outputId": "36b656d5-89d0-4860-cdae-9cdc90f0c39b"
      },
      "cell_type": "code",
      "source": [
        "# Import linear_kernel\n",
        "from sklearn.metrics.pairwise import linear_kernel\n",
        "\n",
        "# Compute the cosine similarity matrix\n",
        "cosine_sim = linear_kernel(test, train)\n",
        "print(cosine_sim)"
      ],
      "execution_count": null,
      "outputs": [
        {
          "output_type": "stream",
          "text": [
            "[[0.         0.28297595 0.         0.22287511 0.         0.36178631\n",
            "  0.0906459  0.5273479  0.0973057  0.40345839 0.1914302  0.46114473]\n",
            " [0.         0.69951101 0.38856475 0.05251723 0.02539215 0.44115308\n",
            "  0.         0.         0.         0.         0.         0.        ]\n",
            " [1.         0.         0.         0.         0.         0.05189644\n",
            "  0.         0.         0.         0.         0.         0.        ]\n",
            " [0.04474485 0.35429859 0.30116528 0.17658096 0.46027204 0.38375231\n",
            "  0.09126056 0.         0.         0.         0.         0.        ]\n",
            " [0.         0.39270229 0.06799767 0.34710654 0.29022243 0.33495289\n",
            "  0.09991272 0.08094836 0.         0.         0.         0.        ]\n",
            " [0.         0.33777538 0.25934525 0.21421846 0.23754    0.39469219\n",
            "  0.39304568 0.0539136  0.44734086 0.12677104 0.37590747 0.10638581]\n",
            " [0.         0.40404378 0.23359699 0.07597576 0.43841395 0.32182342\n",
            "  0.         0.         0.         0.         0.         0.        ]\n",
            " [0.         0.13159643 0.         0.         0.         0.16521468\n",
            "  0.         0.         0.         0.         0.         0.        ]]\n"
          ],
          "name": "stdout"
        }
      ]
    },
    {
      "metadata": {
        "id": "VJRLoUV0HLx5"
      },
      "cell_type": "code",
      "source": [
        "#Construct a reverse map of indices and videokeys\n",
        "indices = pd.Series(data.index, index=data['index']).drop_duplicates()"
      ],
      "execution_count": null,
      "outputs": []
    },
    {
      "metadata": {
        "id": "u5EiJa385k6H"
      },
      "cell_type": "code",
      "source": [
        "\n",
        "def get_recommendations(userKey, cosine_sim=cosine_sim):\n",
        "\n",
        "    idx = indices[userKey]\n",
        "    sim_scores = list(enumerate(cosine_sim[idx]))\n",
        "    sim_scores = sorted(sim_scores, key=lambda x: x[1], reverse=True)\n",
        "\n",
        "    video_indices = [i[0] for i in sim_scores]\n",
        "\n",
        "    all_recommendations = AllTagsProblem.iloc[video_indices]\n",
        "\n",
        "    video_key_reco = list(all_recommendations.index)\n",
        "\n",
        "    video_key_new = []\n",
        "    for keys in video_key_reco:\n",
        "      if keys not in videos_watched[userKey]:\n",
        "          video_key_new.append(keys)\n",
        "\n",
        "    if len(video_key_new) > 3:\n",
        "      video_key_new = video_key_new[:3]\n",
        "\n",
        "    return video_key_new"
      ],
      "execution_count": null,
      "outputs": []
    },
    {
      "metadata": {
        "id": "4KcKC5qw6c3r",
        "colab": {
          "base_uri": "https://localhost:8080/",
          "height": 34
        },
        "outputId": "04ef1156-455f-45e9-ff87-1b9df5d660ed"
      },
      "cell_type": "code",
      "source": [
        "#this function returns the ranked video recommendations i.e videokey and tags associated with that problem(ranked based on similarity)\n",
        "get_recommendations('PBTm2mzeHpZ7E3VkAmZrrTjPmJy2')"
      ],
      "execution_count": null,
      "outputs": [
        {
          "output_type": "execute_result",
          "data": {
            "text/plain": [
              "['-LFLgPST2DOQkhEL8zl6', '-LGZ1W3At4LlWZNJNGqJ', '-LGZ1mArBTe7PTT5r9Os']"
            ]
          },
          "metadata": {
            "tags": []
          },
          "execution_count": 44
        }
      ]
    },
    {
      "metadata": {
        "id": "VlBfYT0XNKBC",
        "colab": {
          "base_uri": "https://localhost:8080/",
          "height": 434
        },
        "outputId": "055e91ba-0a4f-4a4e-b27f-d15de0b4ea53"
      },
      "cell_type": "code",
      "source": [
        "# finally function that returns a dictionary with recommendations\n",
        "\n",
        "def recommender():\n",
        "    recommendations = {}\n",
        "    for rows in data.itertuples():\n",
        "      recommendations[rows[1]] = get_recommendations(rows[1])\n",
        "\n",
        "    return recommendations\n",
        "\n",
        "recommender()\n",
        "\n"
      ],
      "execution_count": null,
      "outputs": [
        {
          "output_type": "execute_result",
          "data": {
            "text/plain": [
              "{'17d6d1LuweS3vlOKnMyonkV03D03': ['-LGZ2GDFwYKYDKm0nssk',\n",
              "  '-LGZ1yNVLpQYrvnKTRXL',\n",
              "  '-LGZ1W3At4LlWZNJNGqJ'],\n",
              " 'AQemrWVOgGXggX3ThOFUQXyAKnQ2': ['-LFLgPST2DOQkhEL8zl6',\n",
              "  '-LFH71vDNMNCgXB2O4RT',\n",
              "  '-LFLgHKNeCgNEw0qzSkl'],\n",
              " 'I9nQZbQ5xMdklnudDqGfh1ucOZz2': ['-LFLgPST2DOQkhEL8zl6',\n",
              "  '-LFH5af1gB_VUOhOV25C',\n",
              "  '-LFH6pRkce1qEz7flOg3'],\n",
              " 'OVkIA2ZkVbVCtzU9x1dHEVnvK8x1': ['-LGZ1W3At4LlWZNJNGqJ',\n",
              "  '-L9JSkGVgGDRBckUlSjL',\n",
              "  '-LGZ1mArBTe7PTT5r9Os'],\n",
              " 'PBTm2mzeHpZ7E3VkAmZrrTjPmJy2': ['-LFLgPST2DOQkhEL8zl6',\n",
              "  '-LGZ1W3At4LlWZNJNGqJ',\n",
              "  '-LGZ1mArBTe7PTT5r9Os'],\n",
              " 'TOT2Pe5KKIe8QufgPxM2S22VqHv1': ['-LGZ28OSwIsABpGQcfhP',\n",
              "  '-LGZ2er1NHk7gq4khVWl',\n",
              "  '-LGZ1mArBTe7PTT5r9Os'],\n",
              " 'YWvoiBjXH9fNwayEJzuxRCyRv593': ['-LFH71vDNMNCgXB2O4RT',\n",
              "  '-L9JSkGVgGDRBckUlSjL',\n",
              "  '-LGZ1W3At4LlWZNJNGqJ'],\n",
              " 'jpG3H98JWMTlMd82eFENoc4YdEB2': ['-LFLgPST2DOQkhEL8zl6',\n",
              "  '-L9JSkGVgGDRBckUlSjL',\n",
              "  '-LFH6pRkce1qEz7flOg3']}"
            ]
          },
          "metadata": {
            "tags": []
          },
          "execution_count": 45
        }
      ]
    },
    {
      "metadata": {
        "id": "Q8yI7-z4BiE_"
      },
      "cell_type": "markdown",
      "source": [
        "# Recommendations based on how everyone tagged the videos"
      ]
    },
    {
      "metadata": {
        "id": "nnywABLQBo0C",
        "colab": {
          "base_uri": "https://localhost:8080/",
          "height": 54
        },
        "outputId": "3955e70a-08e1-480b-b462-9e2ff49ee534"
      },
      "cell_type": "code",
      "source": [
        "# dictionary based on everyone's tags\n",
        "\n",
        "everyone_tags = {}\n",
        "\n",
        "def AllTags(userKey):\n",
        "  taglist = []\n",
        "\n",
        "  for videoKey in list(AllTagsProblem.index):\n",
        "    if videoKey in videos_watched[userKey]:\n",
        "      taglist.append(AllTagsProblem[videoKey])\n",
        "\n",
        "  joiner = ' '\n",
        "\n",
        "  taglist_join = joiner.join(taglist)\n",
        "\n",
        "  return taglist_join\n",
        "\n",
        "\n",
        "\n",
        "for userKey in videos_watched:\n",
        "  everyone_tags[userKey] = AllTags(userKey)\n",
        "\n",
        "print(everyone_tags)\n",
        "\n",
        "\n",
        "\n",
        "\n"
      ],
      "execution_count": null,
      "outputs": [
        {
          "output_type": "stream",
          "text": [
            "{'17d6d1LuweS3vlOKnMyonkV03D03': 'intro ML experience grid of x-axis vs y-axis linear regression error gradient descent polynomial regression recommending decision tree logistic regression neural network kernel trick    App recommendation Acceptance Statistics AI Inadequacy of lines Kernals San Francisco house prices gradient descent neural network logistic regression ML linear regression spam recommendation  recommending pokemon kernel trick  machine learning  function definition      Functions Variables Print Basics Next time parameter how to define function functions definition parameter     linear regression gradient descent     Rainbow trains foundations of neural net machine learning linear regression gradient descent not calculus error the future   linear regression gradient descent regression ML gradient descent   training feature good how many dog               writing classifier own               image classifier flower tensorflow              ', 'AQemrWVOgGXggX3ThOFUQXyAKnQ2': 'intro ML experience grid of x-axis vs y-axis linear regression error gradient descent polynomial regression recommending decision tree logistic regression neural network kernel trick    App recommendation Acceptance Statistics AI Inadequacy of lines Kernals San Francisco house prices gradient descent neural network logistic regression ML linear regression spam recommendation  recommending pokemon kernel trick  machine learning    jupyter notebook print variables command line interface ide localhost:8888   Great Singapore Sale Jupyter Kernals Hello World Math Strings Variables anaconda install python jupyter notebook variable variables cli notebook  ', 'I9nQZbQ5xMdklnudDqGfh1ucOZz2': '    this is not apple.          ', 'OVkIA2ZkVbVCtzU9x1dHEVnvK8x1': 'intro ML experience grid of x-axis vs y-axis linear regression error gradient descent polynomial regression recommending decision tree logistic regression neural network kernel trick    App recommendation Acceptance Statistics AI Inadequacy of lines Kernals San Francisco house prices gradient descent neural network logistic regression ML linear regression spam recommendation  recommending pokemon kernel trick  machine learning    jupyter notebook print variables command line interface ide localhost:8888   Great Singapore Sale Jupyter Kernals Hello World Math Strings Variables anaconda install python jupyter notebook variable variables cli notebook   function definition      Functions Variables Print Basics Next time parameter how to define function functions definition parameter           lists! lists of anything lists of numbers team sports variable square brackets position modification freaking caps lock assignment append  list  append list access append modify append list add to list   linear regression gradient descent     Rainbow trains foundations of neural net machine learning linear regression gradient descent not calculus error the future   linear regression gradient descent regression ML gradient descent  ', 'PBTm2mzeHpZ7E3VkAmZrrTjPmJy2': 'intro ML experience grid of x-axis vs y-axis linear regression error gradient descent polynomial regression recommending decision tree logistic regression neural network kernel trick    App recommendation Acceptance Statistics AI Inadequacy of lines Kernals San Francisco house prices gradient descent neural network logistic regression ML linear regression spam recommendation  recommending pokemon kernel trick  machine learning    jupyter notebook print variables command line interface ide localhost:8888   Great Singapore Sale Jupyter Kernals Hello World Math Strings Variables anaconda install python jupyter notebook variable variables cli notebook   function definition      Functions Variables Print Basics Next time parameter how to define function functions definition parameter           lists! lists of anything lists of numbers team sports variable square brackets position modification freaking caps lock assignment append  list  append list access append modify append list add to list  ', 'TOT2Pe5KKIe8QufgPxM2S22VqHv1': 'intro ML experience grid of x-axis vs y-axis linear regression error gradient descent polynomial regression recommending decision tree logistic regression neural network kernel trick    App recommendation Acceptance Statistics AI Inadequacy of lines Kernals San Francisco house prices gradient descent neural network logistic regression ML linear regression spam recommendation  recommending pokemon kernel trick  machine learning    jupyter notebook print variables command line interface ide localhost:8888   Great Singapore Sale Jupyter Kernals Hello World Math Strings Variables anaconda install python jupyter notebook variable variables cli notebook   function definition      Functions Variables Print Basics Next time parameter how to define function functions definition parameter           lists! lists of anything lists of numbers team sports variable square brackets position modification freaking caps lock assignment append  list  append list access append modify append list add to list   linear regression gradient descent     Rainbow trains foundations of neural net machine learning linear regression gradient descent not calculus error the future   linear regression gradient descent regression ML gradient descent             hello world classifier supervised anaconda               pipeline spam sklearn  classifier               feature classifier distance neighbor    ', 'YWvoiBjXH9fNwayEJzuxRCyRv593': 'intro ML experience grid of x-axis vs y-axis linear regression error gradient descent polynomial regression recommending decision tree logistic regression neural network kernel trick    App recommendation Acceptance Statistics AI Inadequacy of lines Kernals San Francisco house prices gradient descent neural network logistic regression ML linear regression spam recommendation  recommending pokemon kernel trick  machine learning    jupyter notebook print variables command line interface ide localhost:8888   Great Singapore Sale Jupyter Kernals Hello World Math Strings Variables anaconda install python jupyter notebook variable variables cli notebook         lists! lists of anything lists of numbers team sports variable square brackets position modification freaking caps lock assignment append  list  append list access append modify append list add to list   linear regression gradient descent     Rainbow trains foundations of neural net machine learning linear regression gradient descent not calculus error the future   linear regression gradient descent regression ML gradient descent  ', 'jpG3H98JWMTlMd82eFENoc4YdEB2': 'intro ML experience grid of x-axis vs y-axis linear regression error gradient descent polynomial regression recommending decision tree logistic regression neural network kernel trick    App recommendation Acceptance Statistics AI Inadequacy of lines Kernals San Francisco house prices gradient descent neural network logistic regression ML linear regression spam recommendation  recommending pokemon kernel trick  machine learning '}\n"
          ],
          "name": "stdout"
        }
      ]
    },
    {
      "metadata": {
        "id": "L3uGZTHDII7F"
      },
      "cell_type": "code",
      "source": [
        "from sklearn.feature_extraction.text import TfidfVectorizer\n",
        "\n",
        "#to get count for each word\n",
        "tfidf_vector = TfidfVectorizer()\n",
        "#set the variable\n",
        "train = tfidf_vector.fit_transform(AllTagsProblem)\n",
        "test = tfidf_vector.transform(list(everyone_tags.values()))"
      ],
      "execution_count": null,
      "outputs": []
    },
    {
      "metadata": {
        "id": "GjSi8lpdIc_o",
        "colab": {
          "base_uri": "https://localhost:8080/",
          "height": 295
        },
        "outputId": "52666f76-1207-47ec-a2ba-74ad6be78ce5"
      },
      "cell_type": "code",
      "source": [
        "# Import linear_kernel\n",
        "from sklearn.metrics.pairwise import linear_kernel\n",
        "\n",
        "# Compute the cosine similarity matrix\n",
        "cosine_sim = linear_kernel(test, train)\n",
        "print(cosine_sim)"
      ],
      "execution_count": null,
      "outputs": [
        {
          "output_type": "stream",
          "text": [
            "[[0.0241175  0.83887303 0.03552568 0.31258019 0.03426517 0.78540562\n",
            "  0.025426   0.1678465  0.0536958  0.1131693  0.0536958  0.1293502 ]\n",
            " [0.         0.81735773 0.58604148 0.05407063 0.03451903 0.44539279\n",
            "  0.10247839 0.         0.03666918 0.         0.         0.        ]\n",
            " [1.         0.         0.         0.         0.         0.05189644\n",
            "  0.         0.         0.         0.         0.         0.        ]\n",
            " [0.02019635 0.71991969 0.38309571 0.29436034 0.44304149 0.66599905\n",
            "  0.061788   0.01668669 0.0221092  0.         0.         0.        ]\n",
            " [0.         0.63597154 0.48147909 0.36995545 0.54691426 0.3479266\n",
            "  0.07765586 0.02097202 0.02778709 0.         0.         0.        ]\n",
            " [0.01970493 0.70653042 0.39118984 0.28719804 0.43226152 0.64979413\n",
            "  0.17897536 0.03256134 0.13508667 0.03828194 0.11351543 0.03212607]\n",
            " [0.02111345 0.75261089 0.37561139 0.04260197 0.45788038 0.69624174\n",
            "  0.06459376 0.         0.02311317 0.         0.         0.        ]\n",
            " [0.         1.         0.01217792 0.         0.03226199 0.54963615\n",
            "  0.         0.         0.04525153 0.         0.         0.        ]]\n"
          ],
          "name": "stdout"
        }
      ]
    },
    {
      "metadata": {
        "id": "1rAJ7o0fJlPI"
      },
      "cell_type": "code",
      "source": [
        "def get_recommendations(userKey, cosine_sim=cosine_sim):\n",
        "\n",
        "    idx = indices[userKey]\n",
        "    sim_scores = list(enumerate(cosine_sim[idx]))\n",
        "    sim_scores = sorted(sim_scores, key=lambda x: x[1], reverse=True)\n",
        "\n",
        "    video_indices = [i[0] for i in sim_scores]\n",
        "\n",
        "    all_recommendations = AllTagsProblem.iloc[video_indices]\n",
        "\n",
        "    video_key_reco = list(all_recommendations.index)\n",
        "\n",
        "    video_key_new = []\n",
        "    for keys in video_key_reco:\n",
        "      if keys not in videos_watched[userKey]:\n",
        "          video_key_new.append(keys)\n",
        "\n",
        "    if len(video_key_new) > 3:\n",
        "      video_key_new = video_key_new[:3]\n",
        "\n",
        "    return video_key_new"
      ],
      "execution_count": null,
      "outputs": []
    },
    {
      "metadata": {
        "id": "-gattg2lJ5DP",
        "colab": {
          "base_uri": "https://localhost:8080/",
          "height": 434
        },
        "outputId": "0117ec57-7f4b-4426-aa36-9c9a50a29d82"
      },
      "cell_type": "code",
      "source": [
        "# finally function that returns a dictionary with recommendations\n",
        "\n",
        "def recommender():\n",
        "    recommendations = {}\n",
        "    for rows in data.itertuples():\n",
        "      recommendations[rows[1]] = get_recommendations(rows[1])\n",
        "\n",
        "    return recommendations\n",
        "\n",
        "recommender()\n"
      ],
      "execution_count": null,
      "outputs": [
        {
          "output_type": "execute_result",
          "data": {
            "text/plain": [
              "{'17d6d1LuweS3vlOKnMyonkV03D03': ['-LGZ1yNVLpQYrvnKTRXL',\n",
              "  '-LGZ2GDFwYKYDKm0nssk',\n",
              "  '-LFH6pRkce1qEz7flOg3'],\n",
              " 'AQemrWVOgGXggX3ThOFUQXyAKnQ2': ['-LFLgPST2DOQkhEL8zl6',\n",
              "  '-LGZ1W3At4LlWZNJNGqJ',\n",
              "  '-LFH71vDNMNCgXB2O4RT'],\n",
              " 'I9nQZbQ5xMdklnudDqGfh1ucOZz2': ['-LFLgPST2DOQkhEL8zl6',\n",
              "  '-LFH5af1gB_VUOhOV25C',\n",
              "  '-LFH6pRkce1qEz7flOg3'],\n",
              " 'OVkIA2ZkVbVCtzU9x1dHEVnvK8x1': ['-LGZ1W3At4LlWZNJNGqJ',\n",
              "  '-LGZ1yNVLpQYrvnKTRXL',\n",
              "  '-L9JSkGVgGDRBckUlSjL'],\n",
              " 'PBTm2mzeHpZ7E3VkAmZrrTjPmJy2': ['-LFLgPST2DOQkhEL8zl6',\n",
              "  '-LGZ1W3At4LlWZNJNGqJ',\n",
              "  '-LGZ1yNVLpQYrvnKTRXL'],\n",
              " 'TOT2Pe5KKIe8QufgPxM2S22VqHv1': ['-LGZ28OSwIsABpGQcfhP',\n",
              "  '-LGZ1mArBTe7PTT5r9Os',\n",
              "  '-LGZ2er1NHk7gq4khVWl'],\n",
              " 'YWvoiBjXH9fNwayEJzuxRCyRv593': ['-LGZ1W3At4LlWZNJNGqJ',\n",
              "  '-LFH71vDNMNCgXB2O4RT',\n",
              "  '-LGZ1yNVLpQYrvnKTRXL'],\n",
              " 'jpG3H98JWMTlMd82eFENoc4YdEB2': ['-LFLgPST2DOQkhEL8zl6',\n",
              "  '-LGZ1yNVLpQYrvnKTRXL',\n",
              "  '-LFLgHKNeCgNEw0qzSkl']}"
            ]
          },
          "metadata": {
            "tags": []
          },
          "execution_count": 50
        }
      ]
    }
  ]
}